{
 "cells": [
  {
   "cell_type": "code",
   "execution_count": 1,
   "metadata": {},
   "outputs": [],
   "source": [
    "import pandas as pd\n",
    "iou = pd.read_csv(\"/home/wangjingqi/hthb/iou.csv\")\n",
    "labels = ['--label2021']\n",
    "baseline = pd.DataFrame(columns=[\"model_0\",\"model_1\",\"iou\"])"
   ]
  },
  {
   "cell_type": "code",
   "execution_count": 2,
   "metadata": {},
   "outputs": [],
   "source": [
    "\n",
    "for i in range(len(iou)):\n",
    "    if iou.loc[i][\"level_0\"].split(\"_\")[-1].split(\".\")[0] in labels and iou.loc[i][\"level_1\"].split(\"_\")[-1].split(\".\")[0] not in [\"lessaug2021\",'--label2021']:\n",
    "        baseline.loc[len(baseline)] = [iou.loc[i][\"level_0\"],iou.loc[i][\"level_1\"],iou.loc[i][\"0\"]]"
   ]
  },
  {
   "cell_type": "code",
   "execution_count": 3,
   "metadata": {},
   "outputs": [],
   "source": [
    "baseline = baseline.sort_values(\"iou\")"
   ]
  },
  {
   "cell_type": "code",
   "execution_count": 4,
   "metadata": {},
   "outputs": [
    {
     "data": {
      "text/html": [
       "<div>\n",
       "<style scoped>\n",
       "    .dataframe tbody tr th:only-of-type {\n",
       "        vertical-align: middle;\n",
       "    }\n",
       "\n",
       "    .dataframe tbody tr th {\n",
       "        vertical-align: top;\n",
       "    }\n",
       "\n",
       "    .dataframe thead th {\n",
       "        text-align: right;\n",
       "    }\n",
       "</style>\n",
       "<table border=\"1\" class=\"dataframe\">\n",
       "  <thead>\n",
       "    <tr style=\"text-align: right;\">\n",
       "      <th></th>\n",
       "      <th>model_0</th>\n",
       "      <th>model_1</th>\n",
       "      <th>iou</th>\n",
       "    </tr>\n",
       "  </thead>\n",
       "  <tbody>\n",
       "    <tr>\n",
       "      <th>90</th>\n",
       "      <td>HuBFoldSearch\\1_768_segformer-b2_3_--label2021...</td>\n",
       "      <td>HuBFoldSearch\\1_768_segformer-b2_4_nocutout202...</td>\n",
       "      <td>0.390535</td>\n",
       "    </tr>\n",
       "    <tr>\n",
       "      <th>56</th>\n",
       "      <td>HuBFoldSearch\\1_768_segformer-b2_1_--label2021...</td>\n",
       "      <td>HuBFoldSearch\\1_768_segformer-b2_4_mutiauginit...</td>\n",
       "      <td>0.392066</td>\n",
       "    </tr>\n",
       "    <tr>\n",
       "      <th>30</th>\n",
       "      <td>HuBFoldSearch\\1_768_segformer-b2_0_--label2021...</td>\n",
       "      <td>HuBFoldSearch\\1_768_segformer-b2_4_mutiauginit...</td>\n",
       "      <td>0.399173</td>\n",
       "    </tr>\n",
       "    <tr>\n",
       "      <th>77</th>\n",
       "      <td>HuBFoldSearch\\1_768_segformer-b2_2_--label2021...</td>\n",
       "      <td>HuBFoldSearch\\1_768_segformer-b2_4_nocutout202...</td>\n",
       "      <td>0.435138</td>\n",
       "    </tr>\n",
       "    <tr>\n",
       "      <th>95</th>\n",
       "      <td>HuBFoldSearch\\1_768_segformer-b2_4_--label2021...</td>\n",
       "      <td>HuBFoldSearch\\1_768_segformer-b2_4_mutiauginit...</td>\n",
       "      <td>0.455581</td>\n",
       "    </tr>\n",
       "    <tr>\n",
       "      <th>...</th>\n",
       "      <td>...</td>\n",
       "      <td>...</td>\n",
       "      <td>...</td>\n",
       "    </tr>\n",
       "    <tr>\n",
       "      <th>60</th>\n",
       "      <td>HuBFoldSearch\\1_768_segformer-b2_2_--label2021...</td>\n",
       "      <td>HuBFoldSearch\\1_768_segformer-b2_2_color2021.p...</td>\n",
       "      <td>0.893588</td>\n",
       "    </tr>\n",
       "    <tr>\n",
       "      <th>72</th>\n",
       "      <td>HuBFoldSearch\\1_768_segformer-b2_2_--label2021...</td>\n",
       "      <td>HuBFoldSearch\\1_768_segformer-b2_4_centercutmi...</td>\n",
       "      <td>0.895170</td>\n",
       "    </tr>\n",
       "    <tr>\n",
       "      <th>62</th>\n",
       "      <td>HuBFoldSearch\\1_768_segformer-b2_2_--label2021...</td>\n",
       "      <td>HuBFoldSearch\\1_768_segformer-b2_2_moreaug2021...</td>\n",
       "      <td>0.899983</td>\n",
       "    </tr>\n",
       "    <tr>\n",
       "      <th>49</th>\n",
       "      <td>HuBFoldSearch\\1_768_segformer-b2_1_--label2021...</td>\n",
       "      <td>HuBFoldSearch\\1_768_segformer-b2_3_moreaug2021...</td>\n",
       "      <td>0.904383</td>\n",
       "    </tr>\n",
       "    <tr>\n",
       "      <th>93</th>\n",
       "      <td>HuBFoldSearch\\1_768_segformer-b2_4_--label2021...</td>\n",
       "      <td>HuBFoldSearch\\1_768_segformer-b2_4_label2021.p...</td>\n",
       "      <td>0.905063</td>\n",
       "    </tr>\n",
       "  </tbody>\n",
       "</table>\n",
       "<p>97 rows × 3 columns</p>\n",
       "</div>"
      ],
      "text/plain": [
       "                                              model_0  \\\n",
       "90  HuBFoldSearch\\1_768_segformer-b2_3_--label2021...   \n",
       "56  HuBFoldSearch\\1_768_segformer-b2_1_--label2021...   \n",
       "30  HuBFoldSearch\\1_768_segformer-b2_0_--label2021...   \n",
       "77  HuBFoldSearch\\1_768_segformer-b2_2_--label2021...   \n",
       "95  HuBFoldSearch\\1_768_segformer-b2_4_--label2021...   \n",
       "..                                                ...   \n",
       "60  HuBFoldSearch\\1_768_segformer-b2_2_--label2021...   \n",
       "72  HuBFoldSearch\\1_768_segformer-b2_2_--label2021...   \n",
       "62  HuBFoldSearch\\1_768_segformer-b2_2_--label2021...   \n",
       "49  HuBFoldSearch\\1_768_segformer-b2_1_--label2021...   \n",
       "93  HuBFoldSearch\\1_768_segformer-b2_4_--label2021...   \n",
       "\n",
       "                                              model_1       iou  \n",
       "90  HuBFoldSearch\\1_768_segformer-b2_4_nocutout202...  0.390535  \n",
       "56  HuBFoldSearch\\1_768_segformer-b2_4_mutiauginit...  0.392066  \n",
       "30  HuBFoldSearch\\1_768_segformer-b2_4_mutiauginit...  0.399173  \n",
       "77  HuBFoldSearch\\1_768_segformer-b2_4_nocutout202...  0.435138  \n",
       "95  HuBFoldSearch\\1_768_segformer-b2_4_mutiauginit...  0.455581  \n",
       "..                                                ...       ...  \n",
       "60  HuBFoldSearch\\1_768_segformer-b2_2_color2021.p...  0.893588  \n",
       "72  HuBFoldSearch\\1_768_segformer-b2_4_centercutmi...  0.895170  \n",
       "62  HuBFoldSearch\\1_768_segformer-b2_2_moreaug2021...  0.899983  \n",
       "49  HuBFoldSearch\\1_768_segformer-b2_3_moreaug2021...  0.904383  \n",
       "93  HuBFoldSearch\\1_768_segformer-b2_4_label2021.p...  0.905063  \n",
       "\n",
       "[97 rows x 3 columns]"
      ]
     },
     "execution_count": 4,
     "metadata": {},
     "output_type": "execute_result"
    }
   ],
   "source": [
    "baseline"
   ]
  },
  {
   "cell_type": "code",
   "execution_count": 5,
   "metadata": {},
   "outputs": [],
   "source": [
    "num = 50\n",
    "selected = baseline.head(num)[\"model_1\"].unique()"
   ]
  },
  {
   "cell_type": "code",
   "execution_count": 6,
   "metadata": {},
   "outputs": [
    {
     "data": {
      "text/plain": [
       "(20,\n",
       " array(['HuBFoldSearch\\\\1_768_segformer-b2_4_nocutout2021.pth3043b6b3',\n",
       "        'HuBFoldSearch\\\\1_768_segformer-b2_4_mutiauginit2021.pth58ca63d8',\n",
       "        'HuBFoldSearch\\\\1_768_segformer-b2_4_color2021.pth93c1144f',\n",
       "        'HuBFoldSearch\\\\1_768_segformer-b2_3_-label2021.pth',\n",
       "        'HuBFoldSearch\\\\1_768_segformer-b2_3_nocutout2021.pthe73af391',\n",
       "        'HuBFoldSearch\\\\1_768_segformer-b2_0_mutiauginit2021.pthaaaef05d',\n",
       "        'HuBFoldSearch\\\\1_768_segformer-b2_3_label2021.pth1865eda4',\n",
       "        'HuBFoldSearch\\\\1_768_segformer-b2_4_moreaug2021.pth359840e7',\n",
       "        'HuBFoldSearch\\\\1_768_segformer-b2_2_centercutmix2021.pth7d27c389',\n",
       "        'HuBFoldSearch\\\\1_768_segformer-b2_0_moreaug2021.pth2ae90057',\n",
       "        'HuBFoldSearch\\\\1_768_segformer-b2_2_color2021.pthce2feb24',\n",
       "        'HuBFoldSearch\\\\1_768_segformer-b2_3_mutiauginit2021.pth64fa4c59',\n",
       "        'HuBFoldSearch\\\\1_768_segformer-b2_3_moreaug2021.pth098ea3c7',\n",
       "        'HuBFoldSearch\\\\1_768_segformer-b2_3_color2021.pthb347e7a4',\n",
       "        'HuBFoldSearch\\\\1_768_segformer-b2_3_centercutmix2021.pthda0a1456',\n",
       "        'HuBFoldSearch\\\\1_768_segformer-b2_1_-label2021.pth',\n",
       "        'HuBFoldSearch\\\\1_768_segformer-b2_1_nocutout2021.pthc45080de',\n",
       "        'HuBFoldSearch\\\\1_768_segformer-b2_2_nocutout2021.pthb0699449',\n",
       "        'HuBFoldSearch\\\\1_768_segformer-b2_2_moreaug2021.pthf3216140',\n",
       "        'HuBFoldSearch\\\\1_768_segformer-b2_4_centercutmix2021.pth44a29493'],\n",
       "       dtype=object))"
      ]
     },
     "execution_count": 6,
     "metadata": {},
     "output_type": "execute_result"
    }
   ],
   "source": [
    "len(selected),selected"
   ]
  },
  {
   "cell_type": "code",
   "execution_count": 2,
   "metadata": {},
   "outputs": [
    {
     "data": {
      "text/plain": [
       "0.5"
      ]
     },
     "execution_count": 2,
     "metadata": {},
     "output_type": "execute_result"
    }
   ],
   "source": [
    "None or 0.5"
   ]
  },
  {
   "cell_type": "code",
   "execution_count": null,
   "metadata": {},
   "outputs": [],
   "source": []
  }
 ],
 "metadata": {
  "kernelspec": {
   "display_name": "Python 3.8.13 ('difnet': conda)",
   "language": "python",
   "name": "python3"
  },
  "language_info": {
   "codemirror_mode": {
    "name": "ipython",
    "version": 3
   },
   "file_extension": ".py",
   "mimetype": "text/x-python",
   "name": "python",
   "nbconvert_exporter": "python",
   "pygments_lexer": "ipython3",
   "version": "3.8.13"
  },
  "orig_nbformat": 4,
  "vscode": {
   "interpreter": {
    "hash": "446a173561997d53281e75bbcc8e19912f041cc6278963bdd20c3a0eb211bc1c"
   }
  }
 },
 "nbformat": 4,
 "nbformat_minor": 2
}
